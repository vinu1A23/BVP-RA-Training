{
  "nbformat": 4,
  "nbformat_minor": 0,
  "metadata": {
    "colab": {
      "name": "Day-3.ipynb",
      "provenance": [],
      "collapsed_sections": []
    },
    "kernelspec": {
      "name": "python3",
      "display_name": "Python 3"
    },
    "language_info": {
      "name": "python"
    }
  },
  "cells": [
    {
      "cell_type": "code",
      "execution_count": 18,
      "metadata": {
        "id": "xxU1p1px0m41"
      },
      "outputs": [],
      "source": [
        "import math\n",
        "import numpy as np\n",
        "import matplotlib.pyplot as plt\n",
        "import seaborn as sns"
      ]
    },
    {
      "cell_type": "code",
      "source": [
        "# Sigmoid Function:[0,1]\n",
        "def sigmoid(x):\n",
        "  return 1.0/(1.0+np.exp(-x))"
      ],
      "metadata": {
        "id": "ps8VpjJCBkGc"
      },
      "execution_count": 46,
      "outputs": []
    },
    {
      "cell_type": "code",
      "source": [
        "sigmoid(-0.56) # => this neuron will not get activated since val < 0.5"
      ],
      "metadata": {
        "colab": {
          "base_uri": "https://localhost:8080/"
        },
        "id": "Ou0eIJS90ydA",
        "outputId": "8b8cd931-7262-4038-9fd6-1a5553b165d7"
      },
      "execution_count": 20,
      "outputs": [
        {
          "output_type": "execute_result",
          "data": {
            "text/plain": [
              "0.36354745971843366"
            ]
          },
          "metadata": {},
          "execution_count": 20
        }
      ]
    },
    {
      "cell_type": "code",
      "source": [
        "sigmoid(0.56) # => this neuron will get activated since val >= 0.5"
      ],
      "metadata": {
        "colab": {
          "base_uri": "https://localhost:8080/"
        },
        "id": "F2qaGw1rIuZH",
        "outputId": "9470c519-7024-4f44-c51b-4eddf1fe6a7d"
      },
      "execution_count": 21,
      "outputs": [
        {
          "output_type": "execute_result",
          "data": {
            "text/plain": [
              "0.6364525402815664"
            ]
          },
          "metadata": {},
          "execution_count": 21
        }
      ]
    },
    {
      "cell_type": "code",
      "source": [
        "# Sigmoid Graph\n",
        "plt.style.use('seaborn')\n",
        "plt.figure(figsize=(8,4)) \n",
        "\n",
        "t = np.linspace(-5, 5)\n",
        "plt.plot(t, sigmoid(t))\n",
        "plt.title('Sigmoid Activation Function')\n",
        "plt.show()"
      ],
      "metadata": {
        "id": "oLLsm7_t0zIq",
        "colab": {
          "base_uri": "https://localhost:8080/",
          "height": 280
        },
        "outputId": "ce483fc1-aeee-4bdf-c353-0ff42a2bd07b"
      },
      "execution_count": 47,
      "outputs": [
        {
          "output_type": "display_data",
          "data": {
            "text/plain": [
              "<Figure size 576x288 with 1 Axes>"
            ],
            "image/png": "[encoded data removed]"
          },
          "metadata": {}
        }
      ]
    },
    {
      "cell_type": "code",
      "source": [
        "# Tanh Function: [-1,1]\n",
        "def tanh(x):\n",
        "  a = np.exp(x)\n",
        "  b = np.exp(-x)\n",
        "  return (a - b) / (a + b)"
      ],
      "metadata": {
        "id": "HJlEc8sY0ykP"
      },
      "execution_count": 43,
      "outputs": []
    },
    {
      "cell_type": "code",
      "source": [
        "tanh(300)"
      ],
      "metadata": {
        "colab": {
          "base_uri": "https://localhost:8080/"
        },
        "id": "ngB9vdAI0yoF",
        "outputId": "01a2a355-6799-4b1d-9a29-bbc0706e175d"
      },
      "execution_count": 23,
      "outputs": [
        {
          "output_type": "execute_result",
          "data": {
            "text/plain": [
              "1.0"
            ]
          },
          "metadata": {},
          "execution_count": 23
        }
      ]
    },
    {
      "cell_type": "code",
      "source": [
        "# Tanh Graph\n",
        "plt.style.use('seaborn')\n",
        "plt.figure(figsize=(8,4)) \n",
        "\n",
        "t = np.linspace(-5, 5)\n",
        "plt.plot(t, tanh(t))\n",
        "plt.title('Tanh Activation Function')\n",
        "plt.show()"
      ],
      "metadata": {
        "colab": {
          "base_uri": "https://localhost:8080/",
          "height": 280
        },
        "id": "xUw4XehM_8Fg",
        "outputId": "0ab10c59-2e51-4ccd-feaa-922888fe6552"
      },
      "execution_count": 45,
      "outputs": [
        {
          "output_type": "display_data",
          "data": {
            "text/plain": [
              "<Figure size 576x288 with 1 Axes>"
            ],
            "image/png": "[encoded data removed]"
          },
          "metadata": {}
        }
      ]
    },
    {
      "cell_type": "code",
      "source": [
        "# ReLu Function\n",
        "def relu(x):\n",
        "  return np.maximum(0,x)"
      ],
      "metadata": {
        "id": "Z1zInuJe0yrV"
      },
      "execution_count": 48,
      "outputs": []
    },
    {
      "cell_type": "code",
      "source": [
        "relu(-100)"
      ],
      "metadata": {
        "colab": {
          "base_uri": "https://localhost:8080/"
        },
        "id": "UbGjHsj90y0E",
        "outputId": "86cb07f9-30fb-4f68-eb64-f4d3f8dc2e1f"
      },
      "execution_count": 49,
      "outputs": [
        {
          "output_type": "execute_result",
          "data": {
            "text/plain": [
              "0"
            ]
          },
          "metadata": {},
          "execution_count": 49
        }
      ]
    },
    {
      "cell_type": "code",
      "source": [
        "relu(56)"
      ],
      "metadata": {
        "colab": {
          "base_uri": "https://localhost:8080/"
        },
        "id": "VTvGiMR_0y4O",
        "outputId": "ce49cf62-be28-4578-8c11-f775a5c06ec3"
      },
      "execution_count": 50,
      "outputs": [
        {
          "output_type": "execute_result",
          "data": {
            "text/plain": [
              "56"
            ]
          },
          "metadata": {},
          "execution_count": 50
        }
      ]
    },
    {
      "cell_type": "code",
      "source": [
        "# ReLu Graph\n",
        "plt.style.use('seaborn')\n",
        "plt.figure(figsize=(8,4))\n",
        "\n",
        "arr = np.linspace(-5, 5)\n",
        "plt.plot(arr, relu(arr))\n",
        "plt.title('Rectified Linear Unit Activation Function')\n",
        "plt.show()"
      ],
      "metadata": {
        "id": "kAhtYf1o0zQg",
        "colab": {
          "base_uri": "https://localhost:8080/",
          "height": 280
        },
        "outputId": "408b45c1-128b-466c-d0f1-1869c0f0f4e0"
      },
      "execution_count": 52,
      "outputs": [
        {
          "output_type": "display_data",
          "data": {
            "text/plain": [
              "<Figure size 576x288 with 1 Axes>"
            ],
            "image/png": "[encoded data removed]"
          },
          "metadata": {}
        }
      ]
    },
    {
      "cell_type": "code",
      "source": [
        "# Leaky ReLu\n",
        "def leaky_relu(x):\n",
        "  return np.maximum(0.1*x,x)"
      ],
      "metadata": {
        "id": "bxU6DTVY0y8e"
      },
      "execution_count": 53,
      "outputs": []
    },
    {
      "cell_type": "code",
      "source": [
        "leaky_relu(-0.45)"
      ],
      "metadata": {
        "colab": {
          "base_uri": "https://localhost:8080/"
        },
        "id": "DUKJMVtR0zAf",
        "outputId": "c0426c3b-cc23-4e80-f844-771f0214bc0a"
      },
      "execution_count": 54,
      "outputs": [
        {
          "output_type": "execute_result",
          "data": {
            "text/plain": [
              "-0.045000000000000005"
            ]
          },
          "metadata": {},
          "execution_count": 54
        }
      ]
    },
    {
      "cell_type": "code",
      "source": [
        "# Leaky ReLu\n",
        "plt.style.use('seaborn')\n",
        "plt.figure(figsize=(8,4))\n",
        "\n",
        "arr = np.linspace(-5, 5)\n",
        "plt.plot(arr, leaky_relu(arr))\n",
        "plt.title('Leaky ReLu Activation Function')\n",
        "plt.show()"
      ],
      "metadata": {
        "colab": {
          "base_uri": "https://localhost:8080/",
          "height": 280
        },
        "id": "X2sy3YdK_Se7",
        "outputId": "28878d37-3216-4d35-af6a-cd6a2b584d02"
      },
      "execution_count": 57,
      "outputs": [
        {
          "output_type": "display_data",
          "data": {
            "text/plain": [
              "<Figure size 576x288 with 1 Axes>"
            ],
            "image/png": "[encoded data removed]"
          },
          "metadata": {}
        }
      ]
    },
    {
      "cell_type": "code",
      "source": [
        ""
      ],
      "metadata": {
        "id": "GodOHo4ZA-I6"
      },
      "execution_count": null,
      "outputs": []
    }
  ]
}
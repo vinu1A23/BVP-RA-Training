{
  "nbformat": 4,
  "nbformat_minor": 0,
  "metadata": {
    "colab": {
      "name": "18th_Aug.ipynb",
      "provenance": []
    },
    "kernelspec": {
      "name": "python3",
      "display_name": "Python 3"
    },
    "language_info": {
      "name": "python"
    }
  },
  "cells": [
    {
      "cell_type": "code",
      "execution_count": 1,
      "metadata": {
        "id": "bm3omc_u5BuM"
      },
      "outputs": [],
      "source": [
        "import tensorflow as tf\n",
        "from tensorflow import keras\n",
        "import pandas as pd\n",
        "import numpy as np\n",
        "import matplotlib.pyplot as plt\n",
        "%matplotlib inline"
      ]
    },
    {
      "cell_type": "code",
      "source": [
        "input = np.linspace(-10,10,100)"
      ],
      "metadata": {
        "id": "VPOPpm8dM7UE"
      },
      "execution_count": 2,
      "outputs": []
    },
    {
      "cell_type": "markdown",
      "source": [
        "# Sigmoid"
      ],
      "metadata": {
        "id": "jsl3J-giIJ-C"
      }
    },
    {
      "cell_type": "code",
      "source": [
        "# Sigmoid (0,1)\n",
        "import math\n",
        "\n",
        "def sigmoid(x):\n",
        "  return 1/(1+np.exp(-x))\n"
      ],
      "metadata": {
        "id": "UVSB7ns76Fha"
      },
      "execution_count": 3,
      "outputs": []
    },
    {
      "cell_type": "code",
      "source": [
        "sigmoid(10)\n"
      ],
      "metadata": {
        "id": "dJ6Y5JHWHJ2J",
        "outputId": "8c0deffa-4a9d-4c9f-b7ee-bf843e0e489c",
        "colab": {
          "base_uri": "https://localhost:8080/"
        }
      },
      "execution_count": 4,
      "outputs": [
        {
          "output_type": "execute_result",
          "data": {
            "text/plain": [
              "0.9999546021312976"
            ]
          },
          "metadata": {},
          "execution_count": 4
        }
      ]
    },
    {
      "cell_type": "code",
      "source": [
        "plt.plot(input,sigmoid(input),c='blue')"
      ],
      "metadata": {
        "id": "K8HvILs7NCkm",
        "outputId": "7b710ec0-9f47-466d-e9e6-5c8a98a3b646",
        "colab": {
          "base_uri": "https://localhost:8080/",
          "height": 283
        }
      },
      "execution_count": 5,
      "outputs": [
        {
          "output_type": "execute_result",
          "data": {
            "text/plain": [
              "[<matplotlib.lines.Line2D at 0x7f170c71cc90>]"
            ]
          },
          "metadata": {},
          "execution_count": 5
        },
        {
          "output_type": "display_data",
          "data": {
            "text/plain": [
              "<Figure size 432x288 with 1 Axes>"
            ],
            "image/png": "[encoded data removed]"
          },
          "metadata": {
            "needs_background": "light"
          }
        }
      ]
    },
    {
      "cell_type": "markdown",
      "source": [
        "# Tanh"
      ],
      "metadata": {
        "id": "6pI3pkbiIG8J"
      }
    },
    {
      "cell_type": "code",
      "source": [
        "# Tanh (-1,1)\n",
        "def tanh(x):\n",
        "  return (np.exp(x) - np.exp(-x))/(np.exp(x) + np.exp(-x))"
      ],
      "metadata": {
        "id": "UuUrRcvsGeK4"
      },
      "execution_count": 6,
      "outputs": []
    },
    {
      "cell_type": "code",
      "source": [
        "tanh(80)\n"
      ],
      "metadata": {
        "id": "qakFtDdGHtT-",
        "outputId": "5120e904-3cab-43d1-a744-b354d1dc4063",
        "colab": {
          "base_uri": "https://localhost:8080/"
        }
      },
      "execution_count": 7,
      "outputs": [
        {
          "output_type": "execute_result",
          "data": {
            "text/plain": [
              "1.0"
            ]
          },
          "metadata": {},
          "execution_count": 7
        }
      ]
    },
    {
      "cell_type": "code",
      "source": [
        "plt.plot(input,tanh(input),c='red')"
      ],
      "metadata": {
        "id": "iFFe_PrlNUKW",
        "outputId": "348b3b2b-e278-4847-9d7f-a39d4bfe785a",
        "colab": {
          "base_uri": "https://localhost:8080/",
          "height": 283
        }
      },
      "execution_count": 8,
      "outputs": [
        {
          "output_type": "execute_result",
          "data": {
            "text/plain": [
              "[<matplotlib.lines.Line2D at 0x7f170c2109d0>]"
            ]
          },
          "metadata": {},
          "execution_count": 8
        },
        {
          "output_type": "display_data",
          "data": {
            "text/plain": [
              "<Figure size 432x288 with 1 Axes>"
            ],
            "image/png": "[encoded data removed]"
          },
          "metadata": {
            "needs_background": "light"
          }
        }
      ]
    },
    {
      "cell_type": "markdown",
      "source": [
        "# ReLU"
      ],
      "metadata": {
        "id": "_AB7ffoSK1z4"
      }
    },
    {
      "cell_type": "code",
      "source": [
        "# relu\n",
        "def relu(x):\n",
        "  data = [max(0.0,value) for value in x]\n",
        "  return np.array(data, dtype = float)"
      ],
      "metadata": {
        "id": "WEvuP20pHvIo"
      },
      "execution_count": 9,
      "outputs": []
    },
    {
      "cell_type": "code",
      "source": [
        "input.shape"
      ],
      "metadata": {
        "id": "qHULOpduNgwL",
        "outputId": "2cf8c6d6-b54f-4cd7-df8e-f33aa6a029df",
        "colab": {
          "base_uri": "https://localhost:8080/"
        }
      },
      "execution_count": 11,
      "outputs": [
        {
          "output_type": "execute_result",
          "data": {
            "text/plain": [
              "(100,)"
            ]
          },
          "metadata": {},
          "execution_count": 11
        }
      ]
    },
    {
      "cell_type": "code",
      "source": [
        "output = relu(input)\n",
        "plt.plot(input,output)"
      ],
      "metadata": {
        "id": "lDg5h4Ent6xH",
        "outputId": "48af33be-c4ca-4d12-bd80-83116fbaa619",
        "colab": {
          "base_uri": "https://localhost:8080/",
          "height": 283
        }
      },
      "execution_count": 12,
      "outputs": [
        {
          "output_type": "execute_result",
          "data": {
            "text/plain": [
              "[<matplotlib.lines.Line2D at 0x7f170c0816d0>]"
            ]
          },
          "metadata": {},
          "execution_count": 12
        },
        {
          "output_type": "display_data",
          "data": {
            "text/plain": [
              "<Figure size 432x288 with 1 Axes>"
            ],
            "image/png": "[encoded data removed]"
          },
          "metadata": {
            "needs_background": "light"
          }
        }
      ]
    },
    {
      "cell_type": "code",
      "source": [
        "# leaky relu\n",
        "def leaky_relu(x):\n",
        "  data = [max(0.1*value,value) for value in x]\n",
        "  return np.array(data, dtype = float)\n"
      ],
      "metadata": {
        "id": "NDzsbGA4K_F3"
      },
      "execution_count": 13,
      "outputs": []
    },
    {
      "cell_type": "code",
      "source": [
        "output = leaky_relu(input)\n",
        "plt.plot(input,output)"
      ],
      "metadata": {
        "id": "kL0QzssgLSI6",
        "outputId": "b1b0be29-3aca-48f3-d1a3-02d2a0d42037",
        "colab": {
          "base_uri": "https://localhost:8080/",
          "height": 283
        }
      },
      "execution_count": 14,
      "outputs": [
        {
          "output_type": "execute_result",
          "data": {
            "text/plain": [
              "[<matplotlib.lines.Line2D at 0x7f170b5d2c10>]"
            ]
          },
          "metadata": {},
          "execution_count": 14
        },
        {
          "output_type": "display_data",
          "data": {
            "text/plain": [
              "<Figure size 432x288 with 1 Axes>"
            ],
            "image/png": "[encoded data removed]"
          },
          "metadata": {
            "needs_background": "light"
          }
        }
      ]
    },
    {
      "cell_type": "code",
      "source": [
        ""
      ],
      "metadata": {
        "id": "xTiC7i31LUoG"
      },
      "execution_count": null,
      "outputs": []
    }
  ]
}
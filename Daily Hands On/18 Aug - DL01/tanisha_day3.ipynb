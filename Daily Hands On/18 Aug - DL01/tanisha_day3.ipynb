{
  "nbformat": 4,
  "nbformat_minor": 0,
  "metadata": {
    "colab": {
      "name": "tanisha_day3.ipynb",
      "provenance": []
    },
    "kernelspec": {
      "name": "python3",
      "display_name": "Python 3"
    },
    "language_info": {
      "name": "python"
    }
  },
  "cells": [
    {
      "cell_type": "code",
      "execution_count": 1,
      "metadata": {
        "id": "UHvs_DARGH2C"
      },
      "outputs": [],
      "source": [
        "#sigmoid\n",
        "import math\n",
        "def sigmoid(x):\n",
        "  return 1.0/(1.0+math.exp(-x))\n",
        "\n",
        "  "
      ]
    },
    {
      "cell_type": "code",
      "source": [
        "sigmoid(1)"
      ],
      "metadata": {
        "colab": {
          "base_uri": "https://localhost:8080/"
        },
        "id": "tEeL7M7vGrHb",
        "outputId": "60d8607d-8884-432e-c267-fda0d43e7a64"
      },
      "execution_count": 2,
      "outputs": [
        {
          "output_type": "execute_result",
          "data": {
            "text/plain": [
              "0.7310585786300049"
            ]
          },
          "metadata": {},
          "execution_count": 2
        }
      ]
    },
    {
      "cell_type": "code",
      "source": [
        "#tanh(-1,1)\n",
        "\n",
        "def tanh(x):\n",
        "\n",
        "  s=math.exp(x)\n",
        "  t=math.exp(-x)\n",
        "  return (s+t)/(s-t)\n"
      ],
      "metadata": {
        "id": "SgHQaV5nGyu6"
      },
      "execution_count": 3,
      "outputs": []
    },
    {
      "cell_type": "code",
      "source": [
        "tanh(-0.089)"
      ],
      "metadata": {
        "colab": {
          "base_uri": "https://localhost:8080/"
        },
        "id": "_1_N68UiIWhh",
        "outputId": "2fe480e2-2ed3-4f35-80c0-848c7e06c269"
      },
      "execution_count": 4,
      "outputs": [
        {
          "output_type": "execute_result",
          "data": {
            "text/plain": [
              "-11.265606068677421"
            ]
          },
          "metadata": {},
          "execution_count": 4
        }
      ]
    },
    {
      "cell_type": "code",
      "source": [
        "def relu(x):\n",
        "  return max(0.0,x)\n"
      ],
      "metadata": {
        "id": "aYhZ4j2IJSAT"
      },
      "execution_count": 5,
      "outputs": []
    },
    {
      "cell_type": "code",
      "source": [
        "relu(-100)"
      ],
      "metadata": {
        "colab": {
          "base_uri": "https://localhost:8080/"
        },
        "id": "XglBMpt_LZjo",
        "outputId": "e99f4169-d3f4-4316-9f89-9e35c135e616"
      },
      "execution_count": 6,
      "outputs": [
        {
          "output_type": "execute_result",
          "data": {
            "text/plain": [
              "0.0"
            ]
          },
          "metadata": {},
          "execution_count": 6
        }
      ]
    },
    {
      "cell_type": "code",
      "source": [
        "relu(104)"
      ],
      "metadata": {
        "colab": {
          "base_uri": "https://localhost:8080/"
        },
        "id": "Qui0OBCOLbTk",
        "outputId": "ee49ede3-0d53-4649-8ecb-da9f5bdcd5f5"
      },
      "execution_count": 7,
      "outputs": [
        {
          "output_type": "execute_result",
          "data": {
            "text/plain": [
              "104"
            ]
          },
          "metadata": {},
          "execution_count": 7
        }
      ]
    },
    {
      "cell_type": "code",
      "source": [
        "#Leaky relu\n",
        "def leaky_relu(x):\n",
        "  return(0.1*x, x)\n",
        "  "
      ],
      "metadata": {
        "id": "Qz9G7HBCLdL0"
      },
      "execution_count": 8,
      "outputs": []
    },
    {
      "cell_type": "code",
      "source": [
        "leaky_relu(-0.45)"
      ],
      "metadata": {
        "colab": {
          "base_uri": "https://localhost:8080/"
        },
        "id": "hPs5W2qwP5ry",
        "outputId": "552fa11a-0883-4d93-8f67-d00501c37946"
      },
      "execution_count": 9,
      "outputs": [
        {
          "output_type": "execute_result",
          "data": {
            "text/plain": [
              "(-0.045000000000000005, -0.45)"
            ]
          },
          "metadata": {},
          "execution_count": 9
        }
      ]
    },
    {
      "cell_type": "code",
      "source": [
        ""
      ],
      "metadata": {
        "id": "n_PqHX-IP-DF"
      },
      "execution_count": 9,
      "outputs": []
    }
  ]
}
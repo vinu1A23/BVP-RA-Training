{
  "nbformat": 4,
  "nbformat_minor": 0,
  "metadata": {
    "colab": {
      "name": "Untitled0.ipynb",
      "provenance": [],
      "collapsed_sections": []
    },
    "kernelspec": {
      "name": "python3",
      "display_name": "Python 3"
    },
    "language_info": {
      "name": "python"
    }
  },
  "cells": [
    {
      "cell_type": "code",
      "source": [
        "import pandas as pd\n",
        "import numpy as np\n",
        "import tensorflow as tf\n",
        "from matplotlib import pyplot as plt\n",
        "from tensorflow.keras.datasets import cifar10 \n",
        "from tensorflow.keras import models, layers\n",
        "from sklearn.model_selection import train_test_split"
      ],
      "metadata": {
        "id": "9nG3zwXUBcTI"
      },
      "execution_count": 2,
      "outputs": []
    },
    {
      "cell_type": "markdown",
      "source": [
        "cifar - 10"
      ],
      "metadata": {
        "id": "H392uPLVmeFG"
      }
    },
    {
      "cell_type": "code",
      "source": [
        "(X_train, y_train), (X_test, y_test) = cifar10.load_data()\n",
        "X_train.shape"
      ],
      "metadata": {
        "colab": {
          "base_uri": "https://localhost:8080/"
        },
        "id": "mgBNwlT6md0Q",
        "outputId": "6074a1a3-4d32-4107-a95d-ed81409363f9"
      },
      "execution_count": 3,
      "outputs": [
        {
          "output_type": "stream",
          "name": "stdout",
          "text": [
            "Downloading data from https://www.cs.toronto.edu/~kriz/cifar-10-python.tar.gz\n",
            "170500096/170498071 [==============================] - 6s 0us/step\n",
            "170508288/170498071 [==============================] - 6s 0us/step\n"
          ]
        },
        {
          "output_type": "execute_result",
          "data": {
            "text/plain": [
              "(50000, 32, 32, 3)"
            ]
          },
          "metadata": {},
          "execution_count": 3
        }
      ]
    },
    {
      "cell_type": "code",
      "source": [
        "plt.imshow(X_train[1])"
      ],
      "metadata": {
        "colab": {
          "base_uri": "https://localhost:8080/",
          "height": 283
        },
        "id": "zpdaXu6LmdxD",
        "outputId": "454c985c-0b87-4b5b-e0a3-ed82f3fb8e69"
      },
      "execution_count": 4,
      "outputs": [
        {
          "output_type": "execute_result",
          "data": {
            "text/plain": [
              "<matplotlib.image.AxesImage at 0x7fc8f0760090>"
            ]
          },
          "metadata": {},
          "execution_count": 4
        },
        {
          "output_type": "display_data",
          "data": {
            "text/plain": [
              "<Figure size 432x288 with 1 Axes>"
            ],
            "image/png": "[encoded data removed]"
          },
          "metadata": {
            "needs_background": "light"
          }
        }
      ]
    },
    {
      "cell_type": "code",
      "source": [
        "X_train[0]"
      ],
      "metadata": {
        "colab": {
          "base_uri": "https://localhost:8080/"
        },
        "id": "swrSI1fZrQsK",
        "outputId": "a100f96f-ba59-49ed-8d1e-e58020036825"
      },
      "execution_count": 5,
      "outputs": [
        {
          "output_type": "execute_result",
          "data": {
            "text/plain": [
              "array([[[ 59,  62,  63],\n",
              "        [ 43,  46,  45],\n",
              "        [ 50,  48,  43],\n",
              "        ...,\n",
              "        [158, 132, 108],\n",
              "        [152, 125, 102],\n",
              "        [148, 124, 103]],\n",
              "\n",
              "       [[ 16,  20,  20],\n",
              "        [  0,   0,   0],\n",
              "        [ 18,   8,   0],\n",
              "        ...,\n",
              "        [123,  88,  55],\n",
              "        [119,  83,  50],\n",
              "        [122,  87,  57]],\n",
              "\n",
              "       [[ 25,  24,  21],\n",
              "        [ 16,   7,   0],\n",
              "        [ 49,  27,   8],\n",
              "        ...,\n",
              "        [118,  84,  50],\n",
              "        [120,  84,  50],\n",
              "        [109,  73,  42]],\n",
              "\n",
              "       ...,\n",
              "\n",
              "       [[208, 170,  96],\n",
              "        [201, 153,  34],\n",
              "        [198, 161,  26],\n",
              "        ...,\n",
              "        [160, 133,  70],\n",
              "        [ 56,  31,   7],\n",
              "        [ 53,  34,  20]],\n",
              "\n",
              "       [[180, 139,  96],\n",
              "        [173, 123,  42],\n",
              "        [186, 144,  30],\n",
              "        ...,\n",
              "        [184, 148,  94],\n",
              "        [ 97,  62,  34],\n",
              "        [ 83,  53,  34]],\n",
              "\n",
              "       [[177, 144, 116],\n",
              "        [168, 129,  94],\n",
              "        [179, 142,  87],\n",
              "        ...,\n",
              "        [216, 184, 140],\n",
              "        [151, 118,  84],\n",
              "        [123,  92,  72]]], dtype=uint8)"
            ]
          },
          "metadata": {},
          "execution_count": 5
        }
      ]
    },
    {
      "cell_type": "code",
      "source": [
        "#1 image have 32*32*3 matrices\n",
        "plt.figure(figsize= (15,2))\n",
        "plt.imshow(X_train[0])"
      ],
      "metadata": {
        "colab": {
          "base_uri": "https://localhost:8080/",
          "height": 176
        },
        "id": "0s3Y23Q-rzTR",
        "outputId": "bfbd9c45-9d74-4f5b-8f30-f9ca39ce95db"
      },
      "execution_count": 6,
      "outputs": [
        {
          "output_type": "execute_result",
          "data": {
            "text/plain": [
              "<matplotlib.image.AxesImage at 0x7fc8f06cc210>"
            ]
          },
          "metadata": {},
          "execution_count": 6
        },
        {
          "output_type": "display_data",
          "data": {
            "text/plain": [
              "<Figure size 1080x144 with 1 Axes>"
            ],
            "image/png": "[encoded data removed]"
          },
          "metadata": {
            "needs_background": "light"
          }
        }
      ]
    },
    {
      "cell_type": "code",
      "source": [
        " classes = [\"airplane\", \"automobile\", \"bird\", \"cat\", \"deer\", \"dog\", \"frog\", \"horse\", \"ship\", \"truck\"]"
      ],
      "metadata": {
        "id": "PMK_oUmptAbx"
      },
      "execution_count": 7,
      "outputs": []
    },
    {
      "cell_type": "code",
      "source": [
        "y_train = y_train.reshape(-1,)"
      ],
      "metadata": {
        "id": "56OcCIXctkxL"
      },
      "execution_count": 8,
      "outputs": []
    },
    {
      "cell_type": "code",
      "source": [
        "y_train"
      ],
      "metadata": {
        "colab": {
          "base_uri": "https://localhost:8080/"
        },
        "id": "MV3ASFsbuMyu",
        "outputId": "96cb473f-2729-4877-9038-c5ddd4891f36"
      },
      "execution_count": 9,
      "outputs": [
        {
          "output_type": "execute_result",
          "data": {
            "text/plain": [
              "array([6, 9, 9, ..., 9, 1, 1], dtype=uint8)"
            ]
          },
          "metadata": {},
          "execution_count": 9
        }
      ]
    },
    {
      "cell_type": "code",
      "source": [
        "def sample_plt(X, y, index):\n",
        "  plt.figure(figsize=(15,2))\n",
        "  plt.imshow(X[index])\n",
        "  plt.xlabel(classes[y[index]])"
      ],
      "metadata": {
        "id": "eXNjsQFyuU3F"
      },
      "execution_count": 10,
      "outputs": []
    },
    {
      "cell_type": "code",
      "source": [
        "sample_plt(X_train, y_train, 6)"
      ],
      "metadata": {
        "colab": {
          "base_uri": "https://localhost:8080/",
          "height": 173
        },
        "id": "yC-XofmVur-O",
        "outputId": "f125906c-4135-44cc-b660-ba6a056ff485"
      },
      "execution_count": 11,
      "outputs": [
        {
          "output_type": "display_data",
          "data": {
            "text/plain": [
              "<Figure size 1080x144 with 1 Axes>"
            ],
            "image/png": "[encoded data removed]"
          },
          "metadata": {
            "needs_background": "light"
          }
        }
      ]
    },
    {
      "cell_type": "code",
      "source": [
        "#normalizing part\n",
        "X_train = X_train/255\n",
        "X_test = X_test/255 "
      ],
      "metadata": {
        "id": "PNuMUMuMu5Eb"
      },
      "execution_count": 12,
      "outputs": []
    },
    {
      "cell_type": "code",
      "source": [
        "#artificial neural model\n",
        "ann = models.Sequential([\n",
        "    layers.Flatten(input_shape=(32,32,3)), #accept input of (32,32,3)\n",
        "    layers.Dense(3000, activation='relu'), #3000 nodes\n",
        "    layers.Dense(1000, activation='relu'), #1000 nodes\n",
        "    layers.Dense(10, activation='sigmoid') #10 categories we have\n",
        "])\n",
        "\n",
        "ann.compile(optimizer='SGD', \n",
        "            loss='sparse_categorical_crossentropy', \n",
        "            metrics=['accuracy'])\n",
        "\n",
        "ann.fit(X_train, y_train, epochs=5)"
      ],
      "metadata": {
        "colab": {
          "base_uri": "https://localhost:8080/"
        },
        "id": "ObjgBNLyv3wT",
        "outputId": "af0c90d6-a841-4428-c54d-0ae266b7466b"
      },
      "execution_count": 13,
      "outputs": [
        {
          "output_type": "stream",
          "name": "stdout",
          "text": [
            "Epoch 1/5\n",
            "1563/1563 [==============================] - 66s 42ms/step - loss: 1.8097 - accuracy: 0.3563\n",
            "Epoch 2/5\n",
            "1563/1563 [==============================] - 64s 41ms/step - loss: 1.6259 - accuracy: 0.4257\n",
            "Epoch 3/5\n",
            "1563/1563 [==============================] - 64s 41ms/step - loss: 1.5431 - accuracy: 0.4553\n",
            "Epoch 4/5\n",
            "1563/1563 [==============================] - 65s 42ms/step - loss: 1.4830 - accuracy: 0.4775\n",
            "Epoch 5/5\n",
            "1563/1563 [==============================] - 64s 41ms/step - loss: 1.4334 - accuracy: 0.4947\n"
          ]
        },
        {
          "output_type": "execute_result",
          "data": {
            "text/plain": [
              "<keras.callbacks.History at 0x7fc8ec427c10>"
            ]
          },
          "metadata": {},
          "execution_count": 13
        }
      ]
    },
    {
      "cell_type": "code",
      "source": [
        "ann.evaluate(X_test, y_test)"
      ],
      "metadata": {
        "colab": {
          "base_uri": "https://localhost:8080/"
        },
        "id": "3md4pEwlyaMG",
        "outputId": "59a3c175-27e4-4c62-e175-df7359ae9cfa"
      },
      "execution_count": 14,
      "outputs": [
        {
          "output_type": "stream",
          "name": "stdout",
          "text": [
            "313/313 [==============================] - 5s 17ms/step - loss: 1.4870 - accuracy: 0.4685\n"
          ]
        },
        {
          "output_type": "execute_result",
          "data": {
            "text/plain": [
              "[1.4870070219039917, 0.4684999883174896]"
            ]
          },
          "metadata": {},
          "execution_count": 14
        }
      ]
    },
    {
      "cell_type": "code",
      "source": [
        "from sklearn.metrics import confusion_matrix, classification_report\n",
        "y_pred = ann.predict(X_test)\n",
        "y_pred_classes = [np.argmax(element) for element in y_pred]\n",
        "print(\"Classification Report:  \\n\", classification_report(y_test, y_pred_classes))"
      ],
      "metadata": {
        "colab": {
          "base_uri": "https://localhost:8080/"
        },
        "id": "9Dkh5ls6zGep",
        "outputId": "164b6738-f0fb-4164-b0b8-8fc6c0880e0c"
      },
      "execution_count": 15,
      "outputs": [
        {
          "output_type": "stream",
          "name": "stdout",
          "text": [
            "Classification Report:  \n",
            "               precision    recall  f1-score   support\n",
            "\n",
            "           0       0.74      0.32      0.45      1000\n",
            "           1       0.57      0.58      0.58      1000\n",
            "           2       0.44      0.20      0.28      1000\n",
            "           3       0.42      0.26      0.32      1000\n",
            "           4       0.37      0.58      0.45      1000\n",
            "           5       0.38      0.40      0.39      1000\n",
            "           6       0.59      0.45      0.51      1000\n",
            "           7       0.58      0.50      0.53      1000\n",
            "           8       0.60      0.62      0.61      1000\n",
            "           9       0.35      0.77      0.48      1000\n",
            "\n",
            "    accuracy                           0.47     10000\n",
            "   macro avg       0.50      0.47      0.46     10000\n",
            "weighted avg       0.50      0.47      0.46     10000\n",
            "\n"
          ]
        }
      ]
    },
    {
      "cell_type": "code",
      "source": [
        "#convulation neural network\n",
        "#now our dense network will be same just we have to add a convulation\n",
        "#layer and pulling layer which we will included now and we don't \n",
        "#need to specify the shape in middle layer bcoz network can figure it\n",
        "# out automatically and keep only one dense network bcoz our cnn\n",
        "# does most of the work\n",
        "\n",
        "#and we are going to use softmax activation function bcoz it normalize\n",
        "#our probability like if \n",
        "\n",
        "#in sigmoid one class giving prob - 0.45 and other class giving \n",
        "#prob - 0.67 but in softmax it will give 0.45/(0.45+0.67)\n",
        "#means normalizing between 0 and 1\n",
        "    #cnn (convulation layer detect the feauters of ur image)\n",
        "    #u don't need to tell which type of filter it wants only filter size\n",
        "    #how many filters u want\n",
        "\n",
        "cnn = models.Sequential([\n",
        "\n",
        "    layers.Conv2D(filters=32, kernel_size=(3,3), activation='relu',input_shape=(32,32,3)),\n",
        "    layers.MaxPooling2D((2,2)),\n",
        "\n",
        "    layers.Conv2D(filters=32, kernel_size=(3,3), activation='relu',\n",
        "                  input_shape=(32,32,3)),\n",
        "    layers.MaxPooling2D((2,2)),\n",
        "\n",
        "\n",
        "    #dense\n",
        "    layers.Flatten(), #accept input of (32,32,3)\n",
        "    layers.Dense(64, activation='relu'), #1000 nodes\n",
        "    layers.Dense(10, activation='softmax') #10 categories we have\n",
        "])\n",
        "\n",
        "cnn.compile(optimizer='adam', \n",
        "            loss='sparse_categorical_crossentropy', \n",
        "            metrics=['accuracy'])\n",
        "\n",
        "cnn.fit(X_train, y_train, epochs=10)\n"
      ],
      "metadata": {
        "colab": {
          "base_uri": "https://localhost:8080/"
        },
        "id": "QkmiPtIYzWVi",
        "outputId": "474e3e96-8e4a-485c-f2ec-7b1a542dba2c"
      },
      "execution_count": 16,
      "outputs": [
        {
          "output_type": "stream",
          "name": "stdout",
          "text": [
            "Epoch 1/10\n",
            "1563/1563 [==============================] - 41s 26ms/step - loss: 1.5318 - accuracy: 0.4434\n",
            "Epoch 2/10\n",
            "1563/1563 [==============================] - 40s 25ms/step - loss: 1.2083 - accuracy: 0.5739\n",
            "Epoch 3/10\n",
            "1563/1563 [==============================] - 40s 26ms/step - loss: 1.0883 - accuracy: 0.6198\n",
            "Epoch 4/10\n",
            "1563/1563 [==============================] - 40s 26ms/step - loss: 1.0103 - accuracy: 0.6474\n",
            "Epoch 5/10\n",
            "1563/1563 [==============================] - 42s 27ms/step - loss: 0.9506 - accuracy: 0.6669\n",
            "Epoch 6/10\n",
            "1563/1563 [==============================] - 41s 26ms/step - loss: 0.9024 - accuracy: 0.6851\n",
            "Epoch 7/10\n",
            "1563/1563 [==============================] - 42s 27ms/step - loss: 0.8625 - accuracy: 0.6988\n",
            "Epoch 8/10\n",
            "1563/1563 [==============================] - 41s 26ms/step - loss: 0.8253 - accuracy: 0.7107\n",
            "Epoch 9/10\n",
            "1563/1563 [==============================] - 41s 26ms/step - loss: 0.7962 - accuracy: 0.7205\n",
            "Epoch 10/10\n",
            "1563/1563 [==============================] - 40s 26ms/step - loss: 0.7665 - accuracy: 0.7295\n"
          ]
        },
        {
          "output_type": "execute_result",
          "data": {
            "text/plain": [
              "<keras.callbacks.History at 0x7fc8ec280350>"
            ]
          },
          "metadata": {},
          "execution_count": 16
        }
      ]
    },
    {
      "cell_type": "code",
      "source": [
        "cnn.evaluate(X_test, y_test)"
      ],
      "metadata": {
        "colab": {
          "base_uri": "https://localhost:8080/"
        },
        "id": "RINBI5dWVkhQ",
        "outputId": "dd94b2c9-148d-472e-dcac-9f621ce8df19"
      },
      "execution_count": 17,
      "outputs": [
        {
          "output_type": "stream",
          "name": "stdout",
          "text": [
            "313/313 [==============================] - 4s 11ms/step - loss: 0.9484 - accuracy: 0.6808\n"
          ]
        },
        {
          "output_type": "execute_result",
          "data": {
            "text/plain": [
              "[0.9483976364135742, 0.6808000206947327]"
            ]
          },
          "metadata": {},
          "execution_count": 17
        }
      ]
    },
    {
      "cell_type": "code",
      "source": [
        " y_test = y_test.reshape(-1, )\n",
        " y_test"
      ],
      "metadata": {
        "colab": {
          "base_uri": "https://localhost:8080/"
        },
        "id": "qTZd-tJKV3aJ",
        "outputId": "fc8382a0-b4e6-4aaa-a29e-7e0122e147da"
      },
      "execution_count": 20,
      "outputs": [
        {
          "output_type": "execute_result",
          "data": {
            "text/plain": [
              "array([3, 8, 8, ..., 5, 1, 7], dtype=uint8)"
            ]
          },
          "metadata": {},
          "execution_count": 20
        }
      ]
    },
    {
      "cell_type": "code",
      "source": [
        "y_pred= cnn.predict(X_test)\n",
        "y_pred"
      ],
      "metadata": {
        "colab": {
          "base_uri": "https://localhost:8080/"
        },
        "id": "d_kMK0rbWr-G",
        "outputId": "4ed2ad8b-2999-4416-9ecf-51301e807c47"
      },
      "execution_count": 22,
      "outputs": [
        {
          "output_type": "execute_result",
          "data": {
            "text/plain": [
              "array([[3.2613726e-04, 2.6290183e-04, 2.8130412e-02, ..., 4.1529192e-06,\n",
              "        8.6735114e-03, 6.9573951e-05],\n",
              "       [1.3242738e-02, 2.6411800e-02, 2.3172101e-06, ..., 1.1128697e-07,\n",
              "        9.5884126e-01, 1.4945839e-03],\n",
              "       [4.1845862e-02, 7.0640728e-02, 1.2343665e-02, ..., 7.2016129e-03,\n",
              "        7.8155291e-01, 5.7303220e-02],\n",
              "       ...,\n",
              "       [1.5198714e-05, 3.7498194e-07, 4.7313008e-02, ..., 3.2595299e-02,\n",
              "        7.4115797e-04, 1.6491969e-06],\n",
              "       [8.9978904e-04, 2.5340405e-01, 2.2178410e-02, ..., 2.3040661e-04,\n",
              "        1.7745105e-03, 4.1827140e-04],\n",
              "       [2.1191559e-06, 4.7773629e-08, 2.4029619e-05, ..., 9.8966867e-01,\n",
              "        2.6735745e-07, 1.0964001e-07]], dtype=float32)"
            ]
          },
          "metadata": {},
          "execution_count": 22
        }
      ]
    },
    {
      "cell_type": "code",
      "source": [
        "y_classes = [np.argmax(element) for element in y_pred]\n",
        "y_classes[:5]"
      ],
      "metadata": {
        "colab": {
          "base_uri": "https://localhost:8080/"
        },
        "id": "DRatZJe6W1s_",
        "outputId": "e1e6f474-1af3-4f18-d519-61bfaadc569b"
      },
      "execution_count": 27,
      "outputs": [
        {
          "output_type": "execute_result",
          "data": {
            "text/plain": [
              "[3, 8, 8, 0, 4]"
            ]
          },
          "metadata": {},
          "execution_count": 27
        }
      ]
    },
    {
      "cell_type": "code",
      "source": [
        "y_test[:5]"
      ],
      "metadata": {
        "colab": {
          "base_uri": "https://localhost:8080/"
        },
        "id": "0ubD8oa7XSXZ",
        "outputId": "e5e43fd2-e8ce-4c52-b2d6-9d691d5a1bec"
      },
      "execution_count": 28,
      "outputs": [
        {
          "output_type": "execute_result",
          "data": {
            "text/plain": [
              "array([3, 8, 8, 0, 6], dtype=uint8)"
            ]
          },
          "metadata": {},
          "execution_count": 28
        }
      ]
    },
    {
      "cell_type": "code",
      "source": [
        "sample_plt(X_test, y_test, 3)"
      ],
      "metadata": {
        "colab": {
          "base_uri": "https://localhost:8080/",
          "height": 173
        },
        "id": "H2tGkh9rXhQG",
        "outputId": "e1a79bed-02f5-49c3-b693-e8ba8b7cf6b9"
      },
      "execution_count": 32,
      "outputs": [
        {
          "output_type": "display_data",
          "data": {
            "text/plain": [
              "<Figure size 1080x144 with 1 Axes>"
            ],
            "image/png": "[encoded data removed]"
          },
          "metadata": {
            "needs_background": "light"
          }
        }
      ]
    },
    {
      "cell_type": "code",
      "source": [
        "classes[y_classes[3]]"
      ],
      "metadata": {
        "colab": {
          "base_uri": "https://localhost:8080/",
          "height": 35
        },
        "id": "p-57sptXXpuF",
        "outputId": "9a23c339-f8fa-470f-94ac-7a5c9466fe86"
      },
      "execution_count": 33,
      "outputs": [
        {
          "output_type": "execute_result",
          "data": {
            "text/plain": [
              "'airplane'"
            ],
            "application/vnd.google.colaboratory.intrinsic+json": {
              "type": "string"
            }
          },
          "metadata": {},
          "execution_count": 33
        }
      ]
    },
    {
      "cell_type": "code",
      "source": [
        "print(\"Classification Report:  \\n\", classification_report(y_test, y_classes))"
      ],
      "metadata": {
        "colab": {
          "base_uri": "https://localhost:8080/"
        },
        "id": "y78PkcAMXygl",
        "outputId": "3931c0a8-19a4-4552-b701-ce1903b61740"
      },
      "execution_count": 34,
      "outputs": [
        {
          "output_type": "stream",
          "name": "stdout",
          "text": [
            "Classification Report:  \n",
            "               precision    recall  f1-score   support\n",
            "\n",
            "           0       0.74      0.72      0.73      1000\n",
            "           1       0.84      0.74      0.79      1000\n",
            "           2       0.58      0.55      0.56      1000\n",
            "           3       0.53      0.45      0.48      1000\n",
            "           4       0.57      0.72      0.64      1000\n",
            "           5       0.55      0.64      0.59      1000\n",
            "           6       0.76      0.72      0.74      1000\n",
            "           7       0.77      0.70      0.73      1000\n",
            "           8       0.77      0.81      0.79      1000\n",
            "           9       0.75      0.77      0.76      1000\n",
            "\n",
            "    accuracy                           0.68     10000\n",
            "   macro avg       0.69      0.68      0.68     10000\n",
            "weighted avg       0.69      0.68      0.68     10000\n",
            "\n"
          ]
        }
      ]
    }
  ]
}
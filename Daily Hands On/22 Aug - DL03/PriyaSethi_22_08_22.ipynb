{
  "cells": [
    {
      "cell_type": "code",
      "execution_count": 1,
      "metadata": {
        "id": "58PNX6DOkWTj"
      },
      "outputs": [],
      "source": [
        "import tensorflow as tf\n",
        "from tensorflow.keras import datasets,layers,models\n",
        "import matplotlib.pyplot as plt \n",
        "import numpy as np"
      ]
    },
    {
      "cell_type": "code",
      "execution_count": 2,
      "metadata": {
        "id": "ZewGBGMKsFwB"
      },
      "outputs": [],
      "source": [
        "(x_train,y_train),(x_test,y_test) = datasets.cifar10.load_data()"
      ]
    },
    {
      "cell_type": "code",
      "execution_count": 3,
      "metadata": {
        "colab": {
          "base_uri": "https://localhost:8080/"
        },
        "id": "wlk0qjoEiRPW",
        "outputId": "ab740d69-0ceb-4a26-a134-f50f1eaea270"
      },
      "outputs": [
        {
          "output_type": "execute_result",
          "data": {
            "text/plain": [
              "(50000, 32, 32, 3)"
            ]
          },
          "metadata": {},
          "execution_count": 3
        }
      ],
      "source": [
        "x_train.shape"
      ]
    },
    {
      "cell_type": "code",
      "execution_count": 4,
      "metadata": {
        "colab": {
          "base_uri": "https://localhost:8080/",
          "height": 283
        },
        "id": "8yA3cSDFiWFk",
        "outputId": "bfea0a0e-5432-4513-bf15-f1d1b8c2d97b"
      },
      "outputs": [
        {
          "output_type": "execute_result",
          "data": {
            "text/plain": [
              "<matplotlib.image.AxesImage at 0x7f6d6111be90>"
            ]
          },
          "metadata": {},
          "execution_count": 4
        },
        {
          "output_type": "display_data",
          "data": {
            "text/plain": [
              "<Figure size 432x288 with 1 Axes>"
            ],
            "image/png": "[encoded data removed]"
          },
          "metadata": {
            "needs_background": "light"
          }
        }
      ],
      "source": [
        "plt.imshow(x_train[1])"
      ]
    },
    {
      "cell_type": "code",
      "execution_count": 5,
      "metadata": {
        "colab": {
          "base_uri": "https://localhost:8080/"
        },
        "id": "4V0KFYnNrMct",
        "outputId": "494f1a22-a58e-4b95-b043-c6a0fe41afd0"
      },
      "outputs": [
        {
          "output_type": "execute_result",
          "data": {
            "text/plain": [
              "array([[[ 59,  62,  63],\n",
              "        [ 43,  46,  45],\n",
              "        [ 50,  48,  43],\n",
              "        ...,\n",
              "        [158, 132, 108],\n",
              "        [152, 125, 102],\n",
              "        [148, 124, 103]],\n",
              "\n",
              "       [[ 16,  20,  20],\n",
              "        [  0,   0,   0],\n",
              "        [ 18,   8,   0],\n",
              "        ...,\n",
              "        [123,  88,  55],\n",
              "        [119,  83,  50],\n",
              "        [122,  87,  57]],\n",
              "\n",
              "       [[ 25,  24,  21],\n",
              "        [ 16,   7,   0],\n",
              "        [ 49,  27,   8],\n",
              "        ...,\n",
              "        [118,  84,  50],\n",
              "        [120,  84,  50],\n",
              "        [109,  73,  42]],\n",
              "\n",
              "       ...,\n",
              "\n",
              "       [[208, 170,  96],\n",
              "        [201, 153,  34],\n",
              "        [198, 161,  26],\n",
              "        ...,\n",
              "        [160, 133,  70],\n",
              "        [ 56,  31,   7],\n",
              "        [ 53,  34,  20]],\n",
              "\n",
              "       [[180, 139,  96],\n",
              "        [173, 123,  42],\n",
              "        [186, 144,  30],\n",
              "        ...,\n",
              "        [184, 148,  94],\n",
              "        [ 97,  62,  34],\n",
              "        [ 83,  53,  34]],\n",
              "\n",
              "       [[177, 144, 116],\n",
              "        [168, 129,  94],\n",
              "        [179, 142,  87],\n",
              "        ...,\n",
              "        [216, 184, 140],\n",
              "        [151, 118,  84],\n",
              "        [123,  92,  72]]], dtype=uint8)"
            ]
          },
          "metadata": {},
          "execution_count": 5
        }
      ],
      "source": [
        "x_train[0]"
      ]
    },
    {
      "cell_type": "code",
      "execution_count": 6,
      "metadata": {
        "colab": {
          "base_uri": "https://localhost:8080/"
        },
        "id": "HLHObxeDiZHL",
        "outputId": "9c5c9d0d-1dc3-45a0-b436-3ef53b77beb9"
      },
      "outputs": [
        {
          "output_type": "execute_result",
          "data": {
            "text/plain": [
              "array([[6],\n",
              "       [9],\n",
              "       [9],\n",
              "       [4],\n",
              "       [1]], dtype=uint8)"
            ]
          },
          "metadata": {},
          "execution_count": 6
        }
      ],
      "source": [
        "y_train[:5]"
      ]
    },
    {
      "cell_type": "code",
      "execution_count": 7,
      "metadata": {
        "id": "dzD8Ni9qia6Q"
      },
      "outputs": [],
      "source": [
        "y_train = y_train.reshape(-1,)"
      ]
    },
    {
      "cell_type": "code",
      "execution_count": 8,
      "metadata": {
        "id": "tL64Dk8Dics9"
      },
      "outputs": [],
      "source": [
        "y_test = y_test.reshape(-1,)"
      ]
    },
    {
      "cell_type": "code",
      "execution_count": 9,
      "metadata": {
        "id": "CyjczJPnifyB"
      },
      "outputs": [],
      "source": [
        "classes = [\"Airplane\",\"Automobile\",\"Bird\",\"Cat\",\"Deer\",\"Dog\",\"Frog\",\"Horse\",\"Ship\",\"Truck\"]"
      ]
    },
    {
      "cell_type": "code",
      "execution_count": 10,
      "metadata": {
        "id": "lMRMPrfjihfB"
      },
      "outputs": [],
      "source": [
        "def plot_sample(x,y,index):\n",
        "  plt.figure(figsize = (15,2))\n",
        "  plt.imshow(x[index])\n",
        "  plt.xlabel(classes[y[index]])"
      ]
    },
    {
      "cell_type": "code",
      "execution_count": 11,
      "metadata": {
        "colab": {
          "base_uri": "https://localhost:8080/",
          "height": 173
        },
        "id": "AxunUGynijCA",
        "outputId": "6c6e757d-0015-49bd-9d6f-15fdd1dbf555"
      },
      "outputs": [
        {
          "output_type": "display_data",
          "data": {
            "text/plain": [
              "<Figure size 1080x144 with 1 Axes>"
            ],
            "image/png": "[encoded data removed]"
          },
          "metadata": {
            "needs_background": "light"
          }
        }
      ],
      "source": [
        "plot_sample(x_train,y_train,4)"
      ]
    },
    {
      "cell_type": "code",
      "execution_count": 12,
      "metadata": {
        "id": "lSv7UfD9ilT1"
      },
      "outputs": [],
      "source": [
        "x_train = x_train/255.0\n",
        "x_test = x_test/255.0"
      ]
    },
    {
      "cell_type": "code",
      "execution_count": 17,
      "metadata": {
        "colab": {
          "base_uri": "https://localhost:8080/"
        },
        "id": "qzN3sIrVim3M",
        "outputId": "e97fd7d6-836b-48b9-ec83-82bed9d02726"
      },
      "outputs": [
        {
          "output_type": "stream",
          "name": "stdout",
          "text": [
            "Epoch 1/5\n",
            "1563/1563 [==============================] - 106s 68ms/step - loss: 1.8135 - accuracy: 0.3544\n",
            "Epoch 2/5\n",
            "1563/1563 [==============================] - 104s 66ms/step - loss: 1.6238 - accuracy: 0.4264\n",
            "Epoch 3/5\n",
            "1563/1563 [==============================] - 102s 65ms/step - loss: 1.5425 - accuracy: 0.4547\n",
            "Epoch 4/5\n",
            "1563/1563 [==============================] - 105s 67ms/step - loss: 1.4842 - accuracy: 0.4760\n",
            "Epoch 5/5\n",
            "1563/1563 [==============================] - 105s 67ms/step - loss: 1.4315 - accuracy: 0.4958\n"
          ]
        },
        {
          "output_type": "execute_result",
          "data": {
            "text/plain": [
              "<keras.callbacks.History at 0x7f6d59547a10>"
            ]
          },
          "metadata": {},
          "execution_count": 17
        }
      ],
      "source": [
        "#ANN\n",
        "ann = models.Sequential([\n",
        "    layers.Flatten(input_shape=(32,32,3)),\n",
        "    layers.Dense(3000,activation = 'relu'),\n",
        "    layers.Dense(1000,activation = 'relu'),\n",
        "    layers.Dense(10, activation = 'sigmoid')\n",
        "    \n",
        "])\n",
        "ann.compile(optimizer = 'SGD',\n",
        "            loss = 'sparse_categorical_crossentropy',\n",
        "            metrics=['accuracy']\n",
        "            )\n",
        "ann.fit(x_train,y_train,epochs=5)"
      ]
    },
    {
      "cell_type": "code",
      "execution_count": 18,
      "metadata": {
        "colab": {
          "base_uri": "https://localhost:8080/"
        },
        "id": "Ds0zwy4nioaF",
        "outputId": "cd1e1107-3dfc-4ee1-ef5e-5dfc77ca47d8"
      },
      "outputs": [
        {
          "output_type": "execute_result",
          "data": {
            "text/plain": [
              "(50000, 32, 32, 3)"
            ]
          },
          "metadata": {},
          "execution_count": 18
        }
      ],
      "source": [
        "x_train.shape"
      ]
    },
    {
      "cell_type": "code",
      "execution_count": 19,
      "metadata": {
        "id": "XRrpzUlLkq33"
      },
      "outputs": [],
      "source": [
        "from sklearn.metrics import confusion_matrix,classification_report\n",
        "y_pred = ann.predict(x_test)\n",
        "y_pred_classes = [np.argmax(element) for element in y_pred]"
      ]
    },
    {
      "cell_type": "code",
      "source": [
        "print(\"Classification report \\n\",classification_report(y_test,y_pred_classes))"
      ],
      "metadata": {
        "colab": {
          "base_uri": "https://localhost:8080/"
        },
        "id": "LW4SASySfNOP",
        "outputId": "29fc3f81-ff9c-4328-868c-c31554417085"
      },
      "execution_count": 21,
      "outputs": [
        {
          "output_type": "stream",
          "name": "stdout",
          "text": [
            "Classification report \n",
            "               precision    recall  f1-score   support\n",
            "\n",
            "           0       0.56      0.58      0.57      1000\n",
            "           1       0.50      0.76      0.60      1000\n",
            "           2       0.43      0.24      0.31      1000\n",
            "           3       0.27      0.55      0.36      1000\n",
            "           4       0.70      0.12      0.21      1000\n",
            "           5       0.33      0.42      0.37      1000\n",
            "           6       0.47      0.54      0.50      1000\n",
            "           7       0.70      0.38      0.49      1000\n",
            "           8       0.64      0.59      0.62      1000\n",
            "           9       0.60      0.46      0.52      1000\n",
            "\n",
            "    accuracy                           0.46     10000\n",
            "   macro avg       0.52      0.46      0.46     10000\n",
            "weighted avg       0.52      0.46      0.46     10000\n",
            "\n"
          ]
        }
      ]
    },
    {
      "cell_type": "code",
      "execution_count": 22,
      "metadata": {
        "id": "vvnzYy5kmgZY",
        "colab": {
          "base_uri": "https://localhost:8080/"
        },
        "outputId": "6a96cf9b-84fe-41cb-c603-8f70a710aebb"
      },
      "outputs": [
        {
          "output_type": "stream",
          "name": "stdout",
          "text": [
            "Epoch 1/10\n",
            "1563/1563 [==============================] - 68s 43ms/step - loss: 1.4405 - accuracy: 0.4847\n",
            "Epoch 2/10\n",
            "1563/1563 [==============================] - 66s 42ms/step - loss: 1.1024 - accuracy: 0.6131\n",
            "Epoch 3/10\n",
            "1563/1563 [==============================] - 66s 42ms/step - loss: 0.9852 - accuracy: 0.6543\n",
            "Epoch 4/10\n",
            "1563/1563 [==============================] - 65s 42ms/step - loss: 0.8994 - accuracy: 0.6862\n",
            "Epoch 5/10\n",
            "1563/1563 [==============================] - 66s 42ms/step - loss: 0.8300 - accuracy: 0.7121\n",
            "Epoch 6/10\n",
            "1563/1563 [==============================] - 71s 46ms/step - loss: 0.7734 - accuracy: 0.7303\n",
            "Epoch 7/10\n",
            "1563/1563 [==============================] - 69s 44ms/step - loss: 0.7204 - accuracy: 0.7479\n",
            "Epoch 8/10\n",
            "1563/1563 [==============================] - 68s 44ms/step - loss: 0.6732 - accuracy: 0.7654\n",
            "Epoch 9/10\n",
            "1563/1563 [==============================] - 66s 42ms/step - loss: 0.6352 - accuracy: 0.7770\n",
            "Epoch 10/10\n",
            "1563/1563 [==============================] - 66s 42ms/step - loss: 0.5960 - accuracy: 0.7891\n"
          ]
        },
        {
          "output_type": "execute_result",
          "data": {
            "text/plain": [
              "<keras.callbacks.History at 0x7f6d5a1f17d0>"
            ]
          },
          "metadata": {},
          "execution_count": 22
        }
      ],
      "source": [
        "#Convolution Neural Network\n",
        "cnn = models.Sequential([\n",
        "    layers.Conv2D(filters=32, kernel_size=(3, 3), activation='relu', input_shape=(32, 32, 3)),\n",
        "    layers.MaxPooling2D((2, 2)),\n",
        "    \n",
        "    layers.Conv2D(filters=64, kernel_size=(3, 3), activation='relu'),\n",
        "    layers.MaxPooling2D((2, 2)),\n",
        "    \n",
        "    layers.Flatten(),\n",
        "    layers.Dense(64, activation='relu'),\n",
        "    layers.Dense(10, activation='softmax')\n",
        "])\n",
        "\n",
        "cnn.compile(optimizer='adam',\n",
        "            loss='sparse_categorical_crossentropy',\n",
        "            metrics=['accuracy'])\n",
        "\n",
        "cnn.fit(x_train,y_train,epochs=10)"
      ]
    },
    {
      "cell_type": "code",
      "execution_count": 23,
      "metadata": {
        "colab": {
          "base_uri": "https://localhost:8080/"
        },
        "id": "VKc2GAn8mm6G",
        "outputId": "fb3ffd0e-a398-4b7a-a9c7-d08745d569c0"
      },
      "outputs": [
        {
          "output_type": "stream",
          "name": "stdout",
          "text": [
            "313/313 [==============================] - 6s 18ms/step - loss: 0.9504 - accuracy: 0.6920\n"
          ]
        },
        {
          "output_type": "execute_result",
          "data": {
            "text/plain": [
              "[0.9504068493843079, 0.6919999718666077]"
            ]
          },
          "metadata": {},
          "execution_count": 23
        }
      ],
      "source": [
        "cnn.evaluate(x_test, y_test)"
      ]
    },
    {
      "cell_type": "code",
      "source": [
        ""
      ],
      "metadata": {
        "id": "7tdWsQ7roPwI"
      },
      "execution_count": null,
      "outputs": []
    }
  ],
  "metadata": {
    "colab": {
      "collapsed_sections": [],
      "name": "PriyaSethi_22-08-22.ipynb",
      "provenance": []
    },
    "kernelspec": {
      "display_name": "Python 3",
      "name": "python3"
    },
    "language_info": {
      "name": "python"
    }
  },
  "nbformat": 4,
  "nbformat_minor": 0
}
{
  "nbformat": 4,
  "nbformat_minor": 0,
  "metadata": {
    "colab": {
      "name": "Vinayak_22_8_22_artificial_neural_network_cifar10.ipynb",
      "provenance": [],
      "collapsed_sections": []
    },
    "kernelspec": {
      "name": "python3",
      "display_name": "Python 3"
    },
    "language_info": {
      "name": "python"
    },
    "accelerator": "GPU",
    "gpuClass": "standard"
  },
  "cells": [
    {
      "cell_type": "code",
      "execution_count": 1,
      "metadata": {
        "colab": {
          "base_uri": "https://localhost:8080/"
        },
        "id": "lvOU5rLgrP59",
        "outputId": "d76d5128-da89-47d0-d0f5-4a1a002069b2"
      },
      "outputs": [
        {
          "output_type": "stream",
          "name": "stdout",
          "text": [
            "Downloading data from https://www.cs.toronto.edu/~kriz/cifar-10-python.tar.gz\n",
            "170500096/170498071 [==============================] - 2s 0us/step\n",
            "170508288/170498071 [==============================] - 2s 0us/step\n"
          ]
        }
      ],
      "source": [
        "import tensorflow as tf\n",
        "from tensorflow.keras import datasets,layers,models\n",
        "import matplotlib.pyplot as plt\n",
        "import numpy as np\n",
        "from sklearn.model_selection import train_test_split\n",
        "\n",
        "#data_frame_cifar10=datasets.cifar10.load_data()\n",
        "#data_frame_cifar10\n",
        "(X_train,y_train),(X_test,y_test)=datasets.cifar10.load_data()\n"
      ]
    },
    {
      "cell_type": "code",
      "source": [
        "\"\"\"\n",
        "(X_train,y_train),(X_test,y_test)=np.train_test_split(data_frame_cifar10,0.2)\n",
        "\n",
        "y_test=y_test.reshape(-1,)\n",
        "y_train=y_train.reshape(-1,)\n",
        "\n",
        "\n",
        "model_ann=layers.sequential(layers.Flatten((32,32,3)),\n",
        "                            layers.dense(3000,activation=\"relu\",accuracy=\"\",score=\"accuracy\"),\n",
        "                            layers.dense(3000,activation=\"relu\",accuracy=\"\",score=\"accuracy\"),\n",
        "                            layers.dense(300,activation=\"sigmoid\",score=\"accuracy\"))\n",
        "model_ann.compile(optimizer=\"SGD\", loss=\"sigmoidal_crossEntropy\")\n",
        "model.fit(X_train,y_train,epoch=5)\n",
        "\n",
        "def image_plot(X,Y,index):\n",
        "  plt.figure(figsize=((13,5)))\n",
        "  plt.imshow(X,Y)\n",
        "  plt.xlabel(Y[index])\n",
        "\"\"\""
      ],
      "metadata": {
        "id": "aq8ngvBvxy1Q",
        "colab": {
          "base_uri": "https://localhost:8080/",
          "height": 122
        },
        "outputId": "9f0ac050-b9a8-4a83-eb2f-afebb84b0d99"
      },
      "execution_count": 2,
      "outputs": [
        {
          "output_type": "execute_result",
          "data": {
            "text/plain": [
              "'\\n(X_train,y_train),(X_test,y_test)=np.train_test_split(data_frame_cifar10,0.2)\\n\\ny_test=y_test.reshape(-1,)\\ny_train=y_train.reshape(-1,)\\n\\n\\nmodel_ann=layers.sequential(layers.Flatten((32,32,3)),\\n                            layers.dense(3000,activation=\"relu\",accuracy=\"\",score=\"accuracy\"),\\n                            layers.dense(3000,activation=\"relu\",accuracy=\"\",score=\"accuracy\"),\\n                            layers.dense(300,activation=\"sigmoid\",score=\"accuracy\"))\\nmodel_ann.compile(optimizer=\"SGD\", loss=\"sigmoidal_crossEntropy\")\\nmodel.fit(X_train,y_train,epoch=5)\\n\\ndef image_plot(X,Y,index):\\n  plt.figure(figsize=((13,5)))\\n  plt.imshow(X,Y)\\n  plt.xlabel(Y[index])\\n'"
            ],
            "application/vnd.google.colaboratory.intrinsic+json": {
              "type": "string"
            }
          },
          "metadata": {},
          "execution_count": 2
        }
      ]
    },
    {
      "cell_type": "code",
      "source": [
        "y_test=y_test.reshape(-1,)\n",
        "y_train=y_train.reshape(-1,)\n",
        "X_train=X_train/255\n",
        "X_test=X_test/255\n",
        "def image_plot(X,y,index):\n",
        "  plt.figure(figsize=((13,5)))\n",
        "  plt.imshow(X[index])\n",
        "  plt.xlabel(classes[y[index]])\n",
        "\n",
        "classes=[\"airplane\",\"automobile\",\"bird\",\"cat\",\"deer\",\"dog\",\"frog\",\"horse\",\"ship\",\"truck\"]\n",
        "model_ann=models.Sequential((layers.Flatten(input_shape=(32,32,3)),\n",
        "                            layers.Dense(3000,activation=\"relu\"),\n",
        "                            layers.Dense(1000,activation=\"relu\"),\n",
        "                            layers.Dense(30,activation=\"sigmoid\")))\n",
        "\n",
        "model_ann.compile(optimizer=\"SGD\", loss=\"sparse_categorical_crossentropy\",metrics=\"accuracy\")\n",
        "model_ann.fit(X_train,y_train,epochs=5)\n"
      ],
      "metadata": {
        "colab": {
          "base_uri": "https://localhost:8080/"
        },
        "id": "-cETBV7r6YZb",
        "outputId": "333e046a-1b11-47ab-a3d9-11b01c99e0dd"
      },
      "execution_count": 3,
      "outputs": [
        {
          "output_type": "stream",
          "name": "stdout",
          "text": [
            "Epoch 1/5\n",
            "1563/1563 [==============================] - 8s 3ms/step - loss: 1.8500 - accuracy: 0.3427\n",
            "Epoch 2/5\n",
            "1563/1563 [==============================] - 5s 3ms/step - loss: 1.6440 - accuracy: 0.4196\n",
            "Epoch 3/5\n",
            "1563/1563 [==============================] - 6s 4ms/step - loss: 1.5600 - accuracy: 0.4488\n",
            "Epoch 4/5\n",
            "1563/1563 [==============================] - 8s 5ms/step - loss: 1.4990 - accuracy: 0.4718\n",
            "Epoch 5/5\n",
            "1563/1563 [==============================] - 6s 4ms/step - loss: 1.4481 - accuracy: 0.4896\n"
          ]
        },
        {
          "output_type": "execute_result",
          "data": {
            "text/plain": [
              "<keras.callbacks.History at 0x7f6e400bb110>"
            ]
          },
          "metadata": {},
          "execution_count": 3
        }
      ]
    },
    {
      "cell_type": "code",
      "source": [
        "from sklearn.metrics import confusion_matrix , classification_report"
      ],
      "metadata": {
        "id": "T7dGA_Ef6UN7"
      },
      "execution_count": 4,
      "outputs": []
    },
    {
      "cell_type": "code",
      "source": [
        "y_pred=model_ann.predict(X_test)\n",
        "y_pred_max=[np.argmax(i) for i in y_pred]\n",
        "len(y_pred_max)\n",
        "len(y_test)"
      ],
      "metadata": {
        "colab": {
          "base_uri": "https://localhost:8080/"
        },
        "id": "I3Vokmte9aEy",
        "outputId": "aac2f82a-4d35-4985-911e-b97541084564"
      },
      "execution_count": 5,
      "outputs": [
        {
          "output_type": "execute_result",
          "data": {
            "text/plain": [
              "10000"
            ]
          },
          "metadata": {},
          "execution_count": 5
        }
      ]
    },
    {
      "cell_type": "code",
      "source": [
        "y_test=y_test#[:-2]\n",
        "y_pred=y_pred#[:-2]\n",
        "confusion_matrix(y_test,y_pred_max)"
      ],
      "metadata": {
        "colab": {
          "base_uri": "https://localhost:8080/"
        },
        "id": "ejA-W6Ll9qTK",
        "outputId": "bfff26b1-88ea-42ec-efb7-0c42a6b5a912"
      },
      "execution_count": 6,
      "outputs": [
        {
          "output_type": "execute_result",
          "data": {
            "text/plain": [
              "array([[532,  63,  15,   3,  13,   3,  17,  34, 254,  66],\n",
              "       [ 30, 704,   2,   1,   5,   6,   8,  15,  89, 140],\n",
              "       [141,  72, 218,  18,  96,  50, 128, 127,  86,  64],\n",
              "       [ 58, 101,  42, 118,  47, 128, 107, 119, 100, 180],\n",
              "       [ 98,  68,  67,   7, 331,  25, 129, 146,  72,  57],\n",
              "       [ 42,  83,  50,  66,  46, 257,  81, 164, 105, 106],\n",
              "       [ 32,  81,  36,  13,  82,  35, 522,  62,  50,  87],\n",
              "       [ 53,  53,  16,  15,  36,  23,  21, 590,  54, 139],\n",
              "       [ 68,  91,   2,   2,   2,   2,   4,  15, 750,  64],\n",
              "       [ 31, 240,   1,   1,   2,   7,   7,  28,  94, 589]])"
            ]
          },
          "metadata": {},
          "execution_count": 6
        }
      ]
    },
    {
      "cell_type": "code",
      "source": [
        "print(classification_report(y_test,y_pred_max))"
      ],
      "metadata": {
        "id": "npHExcXx-Eod",
        "colab": {
          "base_uri": "https://localhost:8080/"
        },
        "outputId": "e44ac995-9a2c-49b2-8d5f-3fe278f2da94"
      },
      "execution_count": 9,
      "outputs": [
        {
          "output_type": "stream",
          "name": "stdout",
          "text": [
            "              precision    recall  f1-score   support\n",
            "\n",
            "           0       0.49      0.53      0.51      1000\n",
            "           1       0.45      0.70      0.55      1000\n",
            "           2       0.49      0.22      0.30      1000\n",
            "           3       0.48      0.12      0.19      1000\n",
            "           4       0.50      0.33      0.40      1000\n",
            "           5       0.48      0.26      0.33      1000\n",
            "           6       0.51      0.52      0.52      1000\n",
            "           7       0.45      0.59      0.51      1000\n",
            "           8       0.45      0.75      0.57      1000\n",
            "           9       0.39      0.59      0.47      1000\n",
            "\n",
            "    accuracy                           0.46     10000\n",
            "   macro avg       0.47      0.46      0.44     10000\n",
            "weighted avg       0.47      0.46      0.44     10000\n",
            "\n"
          ]
        }
      ]
    },
    {
      "cell_type": "code",
      "source": [
        "model_cnn=models.Sequential((\n",
        "    layers.Conv2D(filters=32,kernel_size=(3,3),activation=\"relu\",input_shape=(32,32,3)),\n",
        "    layers.MaxPooling2D((2,2)),\n",
        "\n",
        "    layers.Conv2D(filters=64,kernel_size=(3,3),activation=\"relu\"),\n",
        "    layers.MaxPooling2D((2,2)),\n",
        "\n",
        "    layers.Flatten(),\n",
        "    layers.Dense(64,activation=\"relu\"),\n",
        "    layers.Dense(10,activation=\"softmax\")\n",
        "\n",
        "))"
      ],
      "metadata": {
        "id": "kWXOAWiPcJqR"
      },
      "execution_count": 10,
      "outputs": []
    },
    {
      "cell_type": "code",
      "source": [
        "model_cnn.compile(optimizer=\"adam\",\n",
        "                  loss=\"sparse_categorical_crossentropy\",\n",
        "                  metrics=[\"accuracy\"])\n",
        "\n",
        "model_cnn.fit(X_train,y_train,epochs=10)"
      ],
      "metadata": {
        "colab": {
          "base_uri": "https://localhost:8080/"
        },
        "id": "989v_IXSdvbb",
        "outputId": "62b046e2-1173-465f-aec6-ec8e266dce61"
      },
      "execution_count": 14,
      "outputs": [
        {
          "output_type": "stream",
          "name": "stdout",
          "text": [
            "Epoch 1/10\n",
            "1563/1563 [==============================] - 7s 4ms/step - loss: 0.5915 - accuracy: 0.7931\n",
            "Epoch 2/10\n",
            "1563/1563 [==============================] - 6s 4ms/step - loss: 0.5602 - accuracy: 0.8034\n",
            "Epoch 3/10\n",
            "1563/1563 [==============================] - 6s 4ms/step - loss: 0.5299 - accuracy: 0.8136\n",
            "Epoch 4/10\n",
            "1563/1563 [==============================] - 5s 3ms/step - loss: 0.5048 - accuracy: 0.8218\n",
            "Epoch 5/10\n",
            "1563/1563 [==============================] - 5s 3ms/step - loss: 0.4730 - accuracy: 0.8333\n",
            "Epoch 6/10\n",
            "1563/1563 [==============================] - 5s 3ms/step - loss: 0.4490 - accuracy: 0.8418\n",
            "Epoch 7/10\n",
            "1563/1563 [==============================] - 6s 4ms/step - loss: 0.4270 - accuracy: 0.8488\n",
            "Epoch 8/10\n",
            "1563/1563 [==============================] - 5s 3ms/step - loss: 0.4023 - accuracy: 0.8583\n",
            "Epoch 9/10\n",
            "1563/1563 [==============================] - 5s 3ms/step - loss: 0.3802 - accuracy: 0.8647\n",
            "Epoch 10/10\n",
            "1563/1563 [==============================] - 5s 3ms/step - loss: 0.3606 - accuracy: 0.8707\n"
          ]
        },
        {
          "output_type": "execute_result",
          "data": {
            "text/plain": [
              "<keras.callbacks.History at 0x7f6d64ffa510>"
            ]
          },
          "metadata": {},
          "execution_count": 14
        }
      ]
    },
    {
      "cell_type": "code",
      "source": [
        "model_cnn.evaluate(X_test,y_test)"
      ],
      "metadata": {
        "colab": {
          "base_uri": "https://localhost:8080/"
        },
        "id": "I6l97ClKeHzI",
        "outputId": "729a520c-0dec-442d-fec7-b41c0045c05d"
      },
      "execution_count": 17,
      "outputs": [
        {
          "output_type": "stream",
          "name": "stdout",
          "text": [
            "313/313 [==============================] - 1s 3ms/step - loss: 1.1839 - accuracy: 0.6958\n"
          ]
        },
        {
          "output_type": "execute_result",
          "data": {
            "text/plain": [
              "[1.1839090585708618, 0.6958000063896179]"
            ]
          },
          "metadata": {},
          "execution_count": 17
        }
      ]
    },
    {
      "cell_type": "code",
      "source": [
        ""
      ],
      "metadata": {
        "id": "VaqRlcxhesCb"
      },
      "execution_count": null,
      "outputs": []
    }
  ]
}
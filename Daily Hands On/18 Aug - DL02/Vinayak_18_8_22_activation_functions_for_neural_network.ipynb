{
  "nbformat": 4,
  "nbformat_minor": 0,
  "metadata": {
    "colab": {
      "name": "Vinayak_18_8_22_activation_functions_for_neural_network.ipynb",
      "provenance": [],
      "collapsed_sections": []
    },
    "kernelspec": {
      "name": "python3",
      "display_name": "Python 3"
    },
    "language_info": {
      "name": "python"
    }
  },
  "cells": [
    {
      "cell_type": "code",
      "execution_count": 29,
      "metadata": {
        "id": "q_QVdNaFNKXA"
      },
      "outputs": [],
      "source": [
        "import math \n",
        "import numpy as np\n",
        "import matplotlib.pyplot as plt \n",
        "\n",
        "\n",
        "# returns the sigmoid value of the given number\n",
        "def sigmoid (x:int):\n",
        "  return 1/(1+math.exp(-x))"
      ]
    },
    {
      "cell_type": "code",
      "source": [
        "range=list(np.linspace(-10,10,100))\n",
        "output=[sigmoid(x) for x in range]\n",
        "plt.plot(range,output,c=\"r\")"
      ],
      "metadata": {
        "colab": {
          "base_uri": "https://localhost:8080/",
          "height": 282
        },
        "id": "cJHmVVZePIWE",
        "outputId": "a5f8c137-06bc-4644-af44-764d217c44eb"
      },
      "execution_count": 30,
      "outputs": [
        {
          "output_type": "execute_result",
          "data": {
            "text/plain": [
              "[<matplotlib.lines.Line2D at 0x7fbc91922e90>]"
            ]
          },
          "metadata": {},
          "execution_count": 30
        },
        {
          "output_type": "display_data",
          "data": {
            "text/plain": [
              "<Figure size 432x288 with 1 Axes>"
            ],
            "image/png": "[encoded data removed]"
          },
          "metadata": {
            "needs_background": "light"
          }
        }
      ]
    },
    {
      "cell_type": "code",
      "source": [
        "def relu(x:float)->float:# returns max of 0 and given number\n",
        "  return max(0.0,x)"
      ],
      "metadata": {
        "id": "nf-pByGUPh5O"
      },
      "execution_count": 31,
      "outputs": []
    },
    {
      "cell_type": "code",
      "source": [
        "domain=list(np.linspace(-10,10,100))\n",
        "output=[relu(x) for x in range]\n",
        "plt.plot(domain,output,c=\"r\")"
      ],
      "metadata": {
        "colab": {
          "base_uri": "https://localhost:8080/",
          "height": 282
        },
        "id": "vW3OvwpRJz4N",
        "outputId": "dac1a51d-5d7a-4cee-f013-4d34d5564e23"
      },
      "execution_count": 32,
      "outputs": [
        {
          "output_type": "execute_result",
          "data": {
            "text/plain": [
              "[<matplotlib.lines.Line2D at 0x7fbc9189e2d0>]"
            ]
          },
          "metadata": {},
          "execution_count": 32
        },
        {
          "output_type": "display_data",
          "data": {
            "text/plain": [
              "<Figure size 432x288 with 1 Axes>"
            ],
            "image/png": "[encoded data removed]"
          },
          "metadata": {
            "needs_background": "light"
          }
        }
      ]
    },
    {
      "cell_type": "code",
      "source": [
        "def leaky_relu(x:float) ->float:     #between small number of given number and that number, gives max \n",
        "    return max(0.1*x,x) \n"
      ],
      "metadata": {
        "id": "qbH4688LJ_BQ"
      },
      "execution_count": 33,
      "outputs": []
    },
    {
      "cell_type": "code",
      "source": [
        "domain=list(np.linspace(-10,10,100))\n",
        "output=[leaky_relu(x) for x in range]\n",
        "plt.plot(domain,output,c=\"r\")"
      ],
      "metadata": {
        "colab": {
          "base_uri": "https://localhost:8080/",
          "height": 282
        },
        "id": "0qmODj4KMK7J",
        "outputId": "acdd1942-4517-4f88-9ee9-751c6c455082"
      },
      "execution_count": 34,
      "outputs": [
        {
          "output_type": "execute_result",
          "data": {
            "text/plain": [
              "[<matplotlib.lines.Line2D at 0x7fbc9180f950>]"
            ]
          },
          "metadata": {},
          "execution_count": 34
        },
        {
          "output_type": "display_data",
          "data": {
            "text/plain": [
              "<Figure size 432x288 with 1 Axes>"
            ],
            "image/png": "[encoded data removed]"
          },
          "metadata": {
            "needs_background": "light"
          }
        }
      ]
    },
    {
      "cell_type": "code",
      "source": [
        "def tanh(x:float)->float: #returns between -1 and 1 for any number using exponential formula of tanh\n",
        "    p=math.exp(x)\n",
        "    n=math.exp(-x)\n",
        "    return (p-n)/(p+n)"
      ],
      "metadata": {
        "id": "M2ZyutCAMOtx"
      },
      "execution_count": 35,
      "outputs": []
    },
    {
      "cell_type": "code",
      "source": [
        "domain=list(np.linspace(-10,10,100))\n",
        "output=[tanh(x) for x in range]\n",
        "plt.plot(domain,output,c=\"r\")"
      ],
      "metadata": {
        "colab": {
          "base_uri": "https://localhost:8080/",
          "height": 282
        },
        "id": "C0C2wAUDM5jS",
        "outputId": "628521a3-bb19-4639-f3dd-78a1792f3f13"
      },
      "execution_count": 36,
      "outputs": [
        {
          "output_type": "execute_result",
          "data": {
            "text/plain": [
              "[<matplotlib.lines.Line2D at 0x7fbc9177ed90>]"
            ]
          },
          "metadata": {},
          "execution_count": 36
        },
        {
          "output_type": "display_data",
          "data": {
            "text/plain": [
              "<Figure size 432x288 with 1 Axes>"
            ],
            "image/png": "[encoded data removed]"
          },
          "metadata": {
            "needs_background": "light"
          }
        }
      ]
    },
    {
      "cell_type": "code",
      "source": [
        "def linear( x:float)->float:#does nothing and returns same number\n",
        "   return x"
      ],
      "metadata": {
        "id": "5FnKA6grM99f"
      },
      "execution_count": 37,
      "outputs": []
    },
    {
      "cell_type": "code",
      "source": [
        "domain=list(np.linspace(-10,10,100))\n",
        "output=[linear(x) for x in range]\n",
        "plt.plot(domain,output,c=\"r\")"
      ],
      "metadata": {
        "colab": {
          "base_uri": "https://localhost:8080/",
          "height": 282
        },
        "id": "z5JGdy6bNfSd",
        "outputId": "80d92f6d-3209-402f-e695-43ab6d6de88e"
      },
      "execution_count": 38,
      "outputs": [
        {
          "output_type": "execute_result",
          "data": {
            "text/plain": [
              "[<matplotlib.lines.Line2D at 0x7fbc916fc8d0>]"
            ]
          },
          "metadata": {},
          "execution_count": 38
        },
        {
          "output_type": "display_data",
          "data": {
            "text/plain": [
              "<Figure size 432x288 with 1 Axes>"
            ],
            "image/png": "[encoded data removed]"
          },
          "metadata": {
            "needs_background": "light"
          }
        }
      ]
    },
    {
      "cell_type": "code",
      "source": [
        "def softmax(x:list)->list: #returns between 0 and 1 and is e^x/sum(d^x)\n",
        "    X=[math.exp(i) for i in x]\n",
        "    X_new=[k/sum(X) for k in X]\n",
        "    return X_new"
      ],
      "metadata": {
        "id": "n_EGQ7FFNitL"
      },
      "execution_count": 39,
      "outputs": []
    },
    {
      "cell_type": "code",
      "source": [
        "domain=list(np.linspace(-10,10,100))\n",
        "output=softmax(domain)\n",
        "plt.plot(domain,output,c=\"r\")"
      ],
      "metadata": {
        "colab": {
          "base_uri": "https://localhost:8080/",
          "height": 282
        },
        "id": "YreZlMbKSBoP",
        "outputId": "231f8cdf-83d3-49e4-9be1-2167ca4a69f3"
      },
      "execution_count": 40,
      "outputs": [
        {
          "output_type": "execute_result",
          "data": {
            "text/plain": [
              "[<matplotlib.lines.Line2D at 0x7fbc91d78990>]"
            ]
          },
          "metadata": {},
          "execution_count": 40
        },
        {
          "output_type": "display_data",
          "data": {
            "text/plain": [
              "<Figure size 432x288 with 1 Axes>"
            ],
            "image/png": "[encoded data removed]"
          },
          "metadata": {
            "needs_background": "light"
          }
        }
      ]
    },
    {
      "cell_type": "code",
      "source": [
        ""
      ],
      "metadata": {
        "id": "uFwvZF9ESXA-"
      },
      "execution_count": 40,
      "outputs": []
    }
  ]
}
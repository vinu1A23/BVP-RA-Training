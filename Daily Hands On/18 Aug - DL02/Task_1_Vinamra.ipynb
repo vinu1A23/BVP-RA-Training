{
  "nbformat": 4,
  "nbformat_minor": 0,
  "metadata": {
    "colab": {
      "name": "Task 1 Vinamra.ipynb",
      "provenance": [],
      "collapsed_sections": []
    },
    "kernelspec": {
      "name": "python3",
      "display_name": "Python 3"
    },
    "language_info": {
      "name": "python"
    }
  },
  "cells": [
    {
      "cell_type": "code",
      "execution_count": 44,
      "metadata": {
        "id": "7ZsmewQKoJq5"
      },
      "outputs": [],
      "source": [
        "from matplotlib import pyplot as plt\n",
        "import numpy  as np"
      ]
    },
    {
      "cell_type": "code",
      "source": [
        "#Sigmoid Function graph plot"
      ],
      "metadata": {
        "id": "pnLcAq3-q5zw"
      },
      "execution_count": 45,
      "outputs": []
    },
    {
      "cell_type": "code",
      "source": [
        "d1 = np.linspace(-15,15,50)"
      ],
      "metadata": {
        "id": "K_cFuyzmoa2m"
      },
      "execution_count": 46,
      "outputs": []
    },
    {
      "cell_type": "code",
      "source": [
        "def sigmoid(x):\n",
        "  return 1.0/(1.0+np.exp(-x))"
      ],
      "metadata": {
        "id": "4O-FPtvWphS4"
      },
      "execution_count": 47,
      "outputs": []
    },
    {
      "cell_type": "code",
      "source": [
        "plt.plot(d1,sigmoid(d1), c = \"m\")  #Range f(x) = (0,1)"
      ],
      "metadata": {
        "colab": {
          "base_uri": "https://localhost:8080/",
          "height": 282
        },
        "id": "EP9QvQgypzTO",
        "outputId": "f52fc7fb-da25-46bb-c1c0-ebe8c79c991a"
      },
      "execution_count": 48,
      "outputs": [
        {
          "output_type": "execute_result",
          "data": {
            "text/plain": [
              "[<matplotlib.lines.Line2D at 0x7f0d4c164550>]"
            ]
          },
          "metadata": {},
          "execution_count": 48
        },
        {
          "output_type": "display_data",
          "data": {
            "text/plain": [
              "<Figure size 432x288 with 1 Axes>"
            ],
            "image/png": "[encoded data removed]"
          },
          "metadata": {
            "needs_background": "light"
          }
        }
      ]
    },
    {
      "cell_type": "code",
      "source": [
        "#Tanh Function graph plot"
      ],
      "metadata": {
        "id": "n4qB9WX-qL_s"
      },
      "execution_count": 49,
      "outputs": []
    },
    {
      "cell_type": "code",
      "source": [
        "d2 = np.linspace(-20,20,20)"
      ],
      "metadata": {
        "id": "4BAlcLNdrCws"
      },
      "execution_count": 50,
      "outputs": []
    },
    {
      "cell_type": "code",
      "source": [
        "def tanh(x):\n",
        "  r = np.exp(x)\n",
        "  s = np.exp(-x)\n",
        "\n",
        "  return (r-s)/(r+s)"
      ],
      "metadata": {
        "id": "BTcmUV1_rJDD"
      },
      "execution_count": 51,
      "outputs": []
    },
    {
      "cell_type": "code",
      "source": [
        "plt.plot(d2,tanh(d2), c = 'maroon') #Range f(x)=(-1,1)"
      ],
      "metadata": {
        "colab": {
          "base_uri": "https://localhost:8080/",
          "height": 282
        },
        "id": "spIbeOzHr8nG",
        "outputId": "9529e494-e435-4b9f-e980-144e9ede3d8f"
      },
      "execution_count": 52,
      "outputs": [
        {
          "output_type": "execute_result",
          "data": {
            "text/plain": [
              "[<matplotlib.lines.Line2D at 0x7f0d4c151290>]"
            ]
          },
          "metadata": {},
          "execution_count": 52
        },
        {
          "output_type": "display_data",
          "data": {
            "text/plain": [
              "<Figure size 432x288 with 1 Axes>"
            ],
            "image/png": "[encoded data removed]"
          },
          "metadata": {
            "needs_background": "light"
          }
        }
      ]
    },
    {
      "cell_type": "code",
      "source": [
        "#ReLU Function graph plot"
      ],
      "metadata": {
        "id": "WvC6Pnc6uhaa"
      },
      "execution_count": 53,
      "outputs": []
    },
    {
      "cell_type": "code",
      "source": [
        "d3 = np.linspace(-10,10,100)"
      ],
      "metadata": {
        "id": "RjVV3gtFt1DR"
      },
      "execution_count": 54,
      "outputs": []
    },
    {
      "cell_type": "code",
      "source": [
        "def relu(x):\n",
        "  data = [max(0,value) for value in x]\n",
        "  return np.array(data)"
      ],
      "metadata": {
        "id": "47-SK6-_udkT"
      },
      "execution_count": 55,
      "outputs": []
    },
    {
      "cell_type": "code",
      "source": [
        "plt.plot(d3, relu(d3), c=\"purple\") #Range f(x) = max(0,x)"
      ],
      "metadata": {
        "colab": {
          "base_uri": "https://localhost:8080/",
          "height": 282
        },
        "id": "a1CbUqlrvbK7",
        "outputId": "d6fc2fef-13ce-4e73-ce48-c87c550420fa"
      },
      "execution_count": 56,
      "outputs": [
        {
          "output_type": "execute_result",
          "data": {
            "text/plain": [
              "[<matplotlib.lines.Line2D at 0x7f0d4c387590>]"
            ]
          },
          "metadata": {},
          "execution_count": 56
        },
        {
          "output_type": "display_data",
          "data": {
            "text/plain": [
              "<Figure size 432x288 with 1 Axes>"
            ],
            "image/png": "[encoded data removed]"
          },
          "metadata": {
            "needs_background": "light"
          }
        }
      ]
    },
    {
      "cell_type": "code",
      "source": [
        "# Leaky_ReLU Function graph plot"
      ],
      "metadata": {
        "id": "pJT_TFa3v3A-"
      },
      "execution_count": 57,
      "outputs": []
    },
    {
      "cell_type": "code",
      "source": [
        "d4 = np.linspace(-30,30,100)"
      ],
      "metadata": {
        "id": "g0wKG5ooxD6c"
      },
      "execution_count": 58,
      "outputs": []
    },
    {
      "cell_type": "code",
      "source": [
        "def leaky_relu(x):\n",
        "  data1 = [max(0.1*value,value) for value in x]\n",
        "  return np.array(data1)"
      ],
      "metadata": {
        "id": "_EWajhw1xKgb"
      },
      "execution_count": 59,
      "outputs": []
    },
    {
      "cell_type": "code",
      "source": [
        "plt.plot(d4,leaky_relu(d4), c = \"navy\") "
      ],
      "metadata": {
        "colab": {
          "base_uri": "https://localhost:8080/",
          "height": 282
        },
        "id": "8TwTy5bXxvQj",
        "outputId": "9edb10a7-de49-4d9f-bce2-4d8518b68e66"
      },
      "execution_count": 60,
      "outputs": [
        {
          "output_type": "execute_result",
          "data": {
            "text/plain": [
              "[<matplotlib.lines.Line2D at 0x7f0d4c19fcd0>]"
            ]
          },
          "metadata": {},
          "execution_count": 60
        },
        {
          "output_type": "display_data",
          "data": {
            "text/plain": [
              "<Figure size 432x288 with 1 Axes>"
            ],
            "image/png": "[encoded data removed]"
          },
          "metadata": {
            "needs_background": "light"
          }
        }
      ]
    },
    {
      "cell_type": "code",
      "source": [
        ""
      ],
      "metadata": {
        "id": "RcbhdDl1yGP3"
      },
      "execution_count": 60,
      "outputs": []
    }
  ]
}
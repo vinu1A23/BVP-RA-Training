{
  "nbformat": 4,
  "nbformat_minor": 0,
  "metadata": {
    "colab": {
      "name": "Activationfunction",
      "provenance": []
    },
    "kernelspec": {
      "name": "python3",
      "display_name": "Python 3"
    },
    "language_info": {
      "name": "python"
    }
  },
  "cells": [
    {
      "cell_type": "code",
      "execution_count": null,
      "metadata": {
        "id": "lT3Tocwxk8VQ"
      },
      "outputs": [],
      "source": [
        "import numpy as np\n",
        "import matplotlib.pyplot as plt\n"
      ]
    },
    {
      "cell_type": "code",
      "source": [
        "input=np.linspace(-10,10,100)\n"
      ],
      "metadata": {
        "id": "7PP_XXV0lLiC"
      },
      "execution_count": null,
      "outputs": []
    },
    {
      "cell_type": "markdown",
      "source": [
        "**SIGMOID**\n",
        "\n"
      ],
      "metadata": {
        "id": "MI764hWgm0e_"
      }
    },
    {
      "cell_type": "code",
      "source": [
        "\n",
        "def sigmoid(x):\n",
        "  return 1/(1+np.exp(-x))"
      ],
      "metadata": {
        "id": "6bJRSGHBlOGC"
      },
      "execution_count": null,
      "outputs": []
    },
    {
      "cell_type": "code",
      "source": [
        "plt.plot(input,sigmoid(input))"
      ],
      "metadata": {
        "colab": {
          "base_uri": "https://localhost:8080/",
          "height": 282
        },
        "id": "zsh1eB7ClQCi",
        "outputId": "45702b29-b125-453b-c2ce-c4d090aa7503"
      },
      "execution_count": null,
      "outputs": [
        {
          "output_type": "execute_result",
          "data": {
            "text/plain": [
              "[<matplotlib.lines.Line2D at 0x7f89036629d0>]"
            ]
          },
          "metadata": {},
          "execution_count": 6
        },
        {
          "output_type": "display_data",
          "data": {
            "text/plain": [
              "<Figure size 432x288 with 1 Axes>"
            ],
            "image/png": "[encoded data removed]"
          },
          "metadata": {
            "needs_background": "light"
          }
        }
      ]
    },
    {
      "cell_type": "code",
      "source": [
        "input=np.linspace(-10,10,100)\n",
        "\n",
        "def tanh(x):\n",
        "  return (np.exp(x)- np.exp(-x))/(np.exp(x) + np.exp(-x))"
      ],
      "metadata": {
        "id": "Fdk2fgtulfZ6"
      },
      "execution_count": null,
      "outputs": []
    },
    {
      "cell_type": "code",
      "source": [
        "plt.plot(input,tanh(input))"
      ],
      "metadata": {
        "colab": {
          "base_uri": "https://localhost:8080/",
          "height": 282
        },
        "id": "yri-8lQIlSG7",
        "outputId": "e30f746d-f61c-4185-a8d5-e2818ce6f5ce"
      },
      "execution_count": null,
      "outputs": [
        {
          "output_type": "execute_result",
          "data": {
            "text/plain": [
              "[<matplotlib.lines.Line2D at 0x7f890314c710>]"
            ]
          },
          "metadata": {},
          "execution_count": 8
        },
        {
          "output_type": "display_data",
          "data": {
            "text/plain": [
              "<Figure size 432x288 with 1 Axes>"
            ],
            "image/png": "[encoded data removed]"
          },
          "metadata": {
            "needs_background": "light"
          }
        }
      ]
    },
    {
      "cell_type": "code",
      "source": [
        ""
      ],
      "metadata": {
        "id": "vWUt5fR2n-29"
      },
      "execution_count": null,
      "outputs": []
    },
    {
      "cell_type": "markdown",
      "source": [
        "**reLU**"
      ],
      "metadata": {
        "id": "qC-SL1snog0Q"
      }
    },
    {
      "cell_type": "code",
      "source": [
        "def RectifiedLinearUnit(t):\n",
        "    lst=[]\n",
        "    for i in x:\n",
        "        if i>=0:\n",
        "            lst.append(i)\n",
        "        else:\n",
        "            lst.append(0)\n",
        "    return lst\n",
        "x = np.linspace(-5, 2, 100)\n",
        "plt.plot(x, RectifiedLinearUnit(x), 'r')\n"
      ],
      "metadata": {
        "colab": {
          "base_uri": "https://localhost:8080/",
          "height": 282
        },
        "id": "kjlLM8wWojbr",
        "outputId": "d80c3709-9e65-4241-b11e-479e0692636a"
      },
      "execution_count": null,
      "outputs": [
        {
          "output_type": "execute_result",
          "data": {
            "text/plain": [
              "[<matplotlib.lines.Line2D at 0x7f89030dba90>]"
            ]
          },
          "metadata": {},
          "execution_count": 9
        },
        {
          "output_type": "display_data",
          "data": {
            "text/plain": [
              "<Figure size 432x288 with 1 Axes>"
            ],
            "image/png": "[encoded data removed]"
          },
          "metadata": {
            "needs_background": "light"
          }
        }
      ]
    },
    {
      "cell_type": "code",
      "source": [
        "def leakyrelu(x):\n",
        "  x1=[]\n",
        "  for i in x:\n",
        "    if i>0 :\n",
        "      x1.append(i)\n",
        "    else :\n",
        "      x1.append(0.01*i)\n",
        "  return x1"
      ],
      "metadata": {
        "id": "IQIqlMSppC5E"
      },
      "execution_count": null,
      "outputs": []
    },
    {
      "cell_type": "code",
      "source": [
        "x = np.linspace(-5, 2, 100)\n",
        "plt.plot(x, leakyrelu(x), 'r')"
      ],
      "metadata": {
        "colab": {
          "base_uri": "https://localhost:8080/",
          "height": 282
        },
        "id": "YCHeyPBMpFup",
        "outputId": "f126dc01-35db-4d3b-cf8c-3f10cdd8d71b"
      },
      "execution_count": null,
      "outputs": [
        {
          "output_type": "execute_result",
          "data": {
            "text/plain": [
              "[<matplotlib.lines.Line2D at 0x7f890305a090>]"
            ]
          },
          "metadata": {},
          "execution_count": 11
        },
        {
          "output_type": "display_data",
          "data": {
            "text/plain": [
              "<Figure size 432x288 with 1 Axes>"
            ],
            "image/png": "[encoded data removed]"
          },
          "metadata": {
            "needs_background": "light"
          }
        }
      ]
    },
    {
      "cell_type": "code",
      "source": [
        ""
      ],
      "metadata": {
        "id": "WU4jIg0EYZ_h"
      },
      "execution_count": null,
      "outputs": []
    }
  ]
}